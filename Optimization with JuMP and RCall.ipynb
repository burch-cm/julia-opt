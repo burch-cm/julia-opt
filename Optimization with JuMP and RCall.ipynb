{
 "cells": [
  {
   "cell_type": "markdown",
   "metadata": {},
   "source": [
    "Using **Julia** and **R** to solve an example linear programming problem from the Coursera *Modeling Risks and Realities* course."
   ]
  },
  {
   "cell_type": "markdown",
   "metadata": {},
   "source": [
    "### Problem\n",
    "ABC company builds widgets, and currently produces two versions: simple widgets and enhanced widgets. They are looking at the increase in sales of widgets through marketing efforts in two new markets: India and China.\n",
    "\n",
    "The relative increase on net sales for each marketing dollar per version per market is as follows:\n",
    "\n",
    "Version | India | China\n",
    "--- | --- | ---\n",
    "Standard | 0.05 | 0.04\n",
    "Enhanced | 0.02 | 0.03\n",
    "\n",
    "The marketing spend for the combined India and China markets is not to exceed \\$195 million. The net increase for the India market across both product versions must be at least \\$3 million, and the net increase for China across both versions must be at least \\$4 million. The enhanced product version sales net increase must be at least 80\\% of the net increase in the standard version sales."
   ]
  },
  {
   "cell_type": "markdown",
   "metadata": {},
   "source": [
    "### Decision Variables\n",
    "There are two versions and two markets for each version, yielding four decision variables.\n",
    "\n",
    "$ A_{si} = $ Amount spent on Standard version in India  \n",
    "$ A_{sc} = $ Amount spent on Standard version in China  \n",
    "$ A_{ei} = $ Amount spent on Enhanced version in India  \n",
    "$ A_{ec} = $ Amonut spent on Enhanced version in China"
   ]
  },
  {
   "cell_type": "markdown",
   "metadata": {},
   "source": [
    "### Objective Function\n",
    "ABC company seeks to maximize net sales increase from both versions in both markets. The objective function can therefore be written:\n",
    "$$ \\max 0.05*A_{si} + 0.04*A_{sc} + 0.02*A_{ei} + 0.03*A_{ec} $$"
   ]
  },
  {
   "cell_type": "markdown",
   "metadata": {},
   "source": [
    "### Constraints\n",
    "Total spending: $A_{si} + A_{sc} + A_{ei} + A_{ec} \\geq 195 $  \n",
    "India requirement: $A_{si} + A_{ei} \\geq 3 $  \n",
    "China requirement: $A_{sc} + A_{ec} \\geq 4 $  \n",
    "Enhanced percentage requirement: $(0.02*A_{ei} + 0.03*A_{ec}) / (0.05*A_{si} + 0.04*A_{sc}) \\geq 0.08 $"
   ]
  },
  {
   "cell_type": "markdown",
   "metadata": {},
   "source": [
    "## Julia (JuMP)"
   ]
  },
  {
   "cell_type": "code",
   "execution_count": 10,
   "metadata": {
    "collapsed": true
   },
   "outputs": [],
   "source": [
    "using JuMP, Gurobi"
   ]
  },
  {
   "cell_type": "code",
   "execution_count": 11,
   "metadata": {
    "collapsed": false
   },
   "outputs": [
    {
     "data": {
      "text/latex": [
       "$$ \\begin{alignat*}{1}\\min\\quad & 0\\\\\n",
       "\\text{Subject to} \\quad\\end{alignat*}\n",
       " $$"
      ],
      "text/plain": [
       "Feasibility problem with:\n",
       " * 0 linear constraints\n",
       " * 0 variables\n",
       "Solver is Gurobi"
      ]
     },
     "execution_count": 11,
     "metadata": {},
     "output_type": "execute_result"
    }
   ],
   "source": [
    "m = Model(solver=GurobiSolver())"
   ]
  },
  {
   "cell_type": "code",
   "execution_count": 12,
   "metadata": {
    "collapsed": false
   },
   "outputs": [
    {
     "data": {
      "text/latex": [
       "$$ A_ec $$"
      ],
      "text/plain": [
       "A_ec"
      ]
     },
     "execution_count": 12,
     "metadata": {},
     "output_type": "execute_result"
    }
   ],
   "source": [
    "@variable(m, A_si >= 0) # Amount for standard model in India\n",
    "@variable(m, A_sc >= 0) # standard model in China\n",
    "@variable(m, A_ei >= 0) # enhanced model in India\n",
    "@variable(m, A_ec >= 0) # enhanced model in China"
   ]
  },
  {
   "cell_type": "code",
   "execution_count": 13,
   "metadata": {
    "collapsed": false
   },
   "outputs": [
    {
     "data": {
      "text/latex": [
       "$$ 0.05 A_si + 0.04 A_sc + 0.02 A_ei + 0.03 A_ec $$"
      ],
      "text/plain": [
       "0.05 A_si + 0.04 A_sc + 0.02 A_ei + 0.03 A_ec"
      ]
     },
     "execution_count": 13,
     "metadata": {},
     "output_type": "execute_result"
    }
   ],
   "source": [
    "@objective(m, Max, 0.05A_si + 0.04A_sc + 0.02A_ei + 0.03A_ec)"
   ]
  },
  {
   "cell_type": "code",
   "execution_count": 14,
   "metadata": {
    "collapsed": false
   },
   "outputs": [
    {
     "data": {
      "text/latex": [
       "$$ 0.02 A_ei + 0.03 A_ec - 0.04000000000000001 A_si - 0.032 A_sc \\geq 0 $$"
      ],
      "text/plain": [
       "0.02 A_ei + 0.03 A_ec - 0.04000000000000001 A_si - 0.032 A_sc ≥ 0"
      ]
     },
     "execution_count": 14,
     "metadata": {},
     "output_type": "execute_result"
    }
   ],
   "source": [
    "@constraint(m, total_spending, A_si + A_sc + A_ei + A_ec <= 195) #in millions\n",
    "@constraint(m, india, 0.05A_si + 0.02A_ei >= 3) # net increase in India is at least 3 million\n",
    "@constraint(m, china, 0.04A_sc + 0.03A_ec >= 4) # net increase in China is at least 4 million\n",
    "@constraint(m, enhanced, (0.02A_ei + 0.03A_ec) >= 0.8(0.05A_si + 0.04A_sc)) # enhanced model is at least 80% increase of standard model"
   ]
  },
  {
   "cell_type": "code",
   "execution_count": 15,
   "metadata": {
    "collapsed": false
   },
   "outputs": [
    {
     "name": "stdout",
     "output_type": "stream",
     "text": [
      "Max 0.05 A_si + 0.04 A_sc + 0.02 A_ei + 0.03 A_ec\n",
      "Subject to\n",
      " A_si + A_sc + A_ei + A_ec ≤ 195\n",
      " 0.05 A_si + 0.02 A_ei ≥ 3\n",
      " 0.04 A_sc + 0.03 A_ec ≥ 4\n",
      " 0.02 A_ei + 0.03 A_ec - 0.04000000000000001 A_si - 0.032 A_sc ≥ 0\n",
      " A_si ≥ 0\n",
      " A_sc ≥ 0\n",
      " A_ei ≥ 0\n",
      " A_ec ≥ 0\n"
     ]
    }
   ],
   "source": [
    "print(m) # show model formulation"
   ]
  },
  {
   "cell_type": "code",
   "execution_count": 16,
   "metadata": {
    "collapsed": false
   },
   "outputs": [
    {
     "name": "stdout",
     "output_type": "stream",
     "text": [
      "Optimize a model with 4 rows, 4 columns and 12 nonzeros\n",
      "Coefficient statistics:\n",
      "  Matrix range    [2e-02, 1e+00]\n",
      "  Objective range [2e-02, 5e-02]\n",
      "  Bounds range    [0e+00, 0e+00]\n",
      "  RHS range       [3e+00, 2e+02]\n",
      "Presolve time: 0.01s\n",
      "Presolved: 4 rows, 4 columns, 12 nonzeros\n",
      "\n",
      "Iteration    Objective       Primal Inf.    Dual Inf.      Time\n",
      "       0    1.4000000e+29   4.352000e+30   1.400000e-01      0s\n",
      "       3    7.3828125e+00   0.000000e+00   0.000000e+00      0s\n",
      "\n",
      "Solved in 3 iterations and 0.03 seconds\n",
      "Optimal objective  7.382812500e+00\n"
     ]
    },
    {
     "data": {
      "text/plain": [
       ":Optimal"
      ]
     },
     "execution_count": 16,
     "metadata": {},
     "output_type": "execute_result"
    }
   ],
   "source": [
    "solve(m)"
   ]
  },
  {
   "cell_type": "code",
   "execution_count": 35,
   "metadata": {
    "collapsed": false
   },
   "outputs": [
    {
     "data": {
      "text/plain": [
       "7.3828125"
      ]
     },
     "execution_count": 35,
     "metadata": {},
     "output_type": "execute_result"
    }
   ],
   "source": [
    "getobjectivevalue(m)"
   ]
  },
  {
   "cell_type": "markdown",
   "metadata": {},
   "source": [
    "## RCall (R in Julia)"
   ]
  },
  {
   "cell_type": "code",
   "execution_count": 18,
   "metadata": {
    "collapsed": true
   },
   "outputs": [],
   "source": [
    "using RCall"
   ]
  },
  {
   "cell_type": "code",
   "execution_count": 19,
   "metadata": {
    "collapsed": false
   },
   "outputs": [
    {
     "data": {
      "text/plain": [
       "RCall.RObject{RCall.NilSxp}\n",
       "NULL\n"
      ]
     },
     "execution_count": 19,
     "metadata": {},
     "output_type": "execute_result"
    }
   ],
   "source": [
    "R\"\"\"\n",
    "library(lpSolveAPI)\n",
    "library(magrittr)\n",
    "m2 <- make.lp(0,4)\n",
    "lp.control(m2, sense=\"max\")\n",
    "set.objfn(m2, obj = c(0.05, 0.04, 0.02, 0.03))\n",
    "row.add.mode(m2, \"on\")\n",
    "add.constraint(m2, xt = c(1, 1, 1, 1), type = \"<=\", rhs = 195, indices = c(1:4))\n",
    "add.constraint(m2, xt = c(0.05, 0.02), type = \">=\", rhs = 3, indices = c(1,3))\n",
    "add.constraint(m2, xt = c(0.04, 0.03), type = \">=\", rhs = 4, indices = c(2,4))\n",
    "add.constraint(m2, xt = c(-0.04, -0.032, 0.02, 0.03), type = \">=\", rhs = 0, indices = c(1:4))\n",
    "row.add.mode(m2, \"off\")\n",
    "set.bounds(m2, lower = c(0,0,0,0), upper = rep(195, 4))\n",
    "\"\"\""
   ]
  },
  {
   "cell_type": "code",
   "execution_count": 20,
   "metadata": {
    "collapsed": false
   },
   "outputs": [
    {
     "data": {
      "text/plain": [
       "4-element Array{Float64,1}:\n",
       "  67.6562\n",
       "  17.9688\n",
       "   0.0   \n",
       " 109.375 "
      ]
     },
     "execution_count": 20,
     "metadata": {},
     "output_type": "execute_result"
    }
   ],
   "source": [
    "R\"\"\"\n",
    "solve(m2)\n",
    "get.variables(m2) %>% divide_by(sum(get.variables(m2))) %>% round(3)\n",
    "vars <- get.variables(m2)\n",
    "\"\"\"\n",
    "@rget vars"
   ]
  },
  {
   "cell_type": "code",
   "execution_count": 21,
   "metadata": {
    "collapsed": false
   },
   "outputs": [
    {
     "data": {
      "text/plain": [
       "7.3828125"
      ]
     },
     "execution_count": 21,
     "metadata": {},
     "output_type": "execute_result"
    }
   ],
   "source": [
    "R\"\"\"\n",
    "outcome <- get.objective(m2)\n",
    "\"\"\"\n",
    "@rget outcome"
   ]
  },
  {
   "cell_type": "markdown",
   "metadata": {
    "variables": {
     "getobjectivevalue(m)": "7.3828125",
     "getvalue(A_ec)": "109.37500000000001",
     "getvalue(A_ei)": "0.0",
     "getvalue(A_sc)": "17.96874999999999",
     "getvalue(A_si)": "67.65625",
     "print(outcome)": "7.3828125",
     "print(vars[1])": "67.65624999999999",
     "print(vars[2])": "17.968750000000004",
     "print(vars[3])": "0.0",
     "print(vars[4])": "109.37500000000001"
    }
   },
   "source": [
    "Solutions:\n",
    "\n",
    "| Objective | $A_{si}$ | $A_{sc}$ | $A_{ei}$ | $A_{ec}$\n",
    "--- | --- | --- | --- | --- | ---\n",
    "Julia | {{getobjectivevalue(m)}} | {{getvalue(A_si)}} | {{getvalue(A_sc)}} | {{getvalue(A_ei)}} | {{getvalue(A_ec)}}\n",
    "R | {{print(outcome)}} | {{print(vars[1])}} | {{print(vars[2])}} | {{print(vars[3])}} | {{print(vars[4])}}"
   ]
  },
  {
   "cell_type": "markdown",
   "metadata": {
    "collapsed": false
   },
   "source": [
    "## Conclusion\n",
    "Both Julia's JuMP package and R's lpSolveAPI package (accessed through Julia's RCall package) produced the same results, which is cool. Also, the RCall package allows for blending Julia and R inside of the Jupyter notebook, which is also pretty cool. So, in summary, cool. Cool cool cool."
   ]
  }
 ],
 "metadata": {
  "kernelspec": {
   "display_name": "Julia 0.4.5",
   "language": "julia",
   "name": "julia-0.4"
  },
  "language_info": {
   "file_extension": ".jl",
   "mimetype": "application/julia",
   "name": "julia",
   "version": "0.4.5"
  }
 },
 "nbformat": 4,
 "nbformat_minor": 0
}
